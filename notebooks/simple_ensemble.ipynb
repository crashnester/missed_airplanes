{
  "nbformat": 4,
  "nbformat_minor": 0,
  "metadata": {
    "accelerator": "GPU",
    "colab": {
      "name": "avia_torch_resnet.ipynb",
      "provenance": [],
      "collapsed_sections": []
    },
    "kernelspec": {
      "display_name": "Python 3",
      "name": "python3"
    },
    "language_info": {
      "name": "python"
    }
  },
  "cells": [
    {
      "cell_type": "code",
      "metadata": {
        "id": "DPp7ffaWGV7u"
      },
      "source": [
        "import pandas as pd\n",
        "import numpy as np"
      ],
      "execution_count": 1,
      "outputs": []
    },
    {
      "cell_type": "code",
      "metadata": {
        "id": "p2ZFzwZ4GWWm"
      },
      "source": [
        "densenet_sub = pd.read_csv('submission_float_densenet161.csv')\n",
        "resnet_sub = pd.read_csv('submission_float_resnet34.csv')\n",
        "effnet_b4_mixup_sub = pd.read_csv('submission_float_b4_224_mixup.csv')\n",
        "\n",
        "densenet_sub['sign'] = 0.7*effnet_b4_mixup_sub['sign'] + 0.2*resnet_sub['sign'] + 0.1*densenet_sub['sign']\n",
        "print(len(densenet_sub[densenet_sub['sign'] >= 0.5]))\n",
        "\n",
        "densenet_sub.to_csv('ensemble.csv', index=False)"
      ],
      "execution_count": null,
      "outputs": []
    }
  ]
}