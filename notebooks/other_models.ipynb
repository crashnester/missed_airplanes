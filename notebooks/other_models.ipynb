{
  "nbformat": 4,
  "nbformat_minor": 0,
  "metadata": {
    "accelerator": "GPU",
    "colab": {
      "name": "avia torch.ipynb",
      "provenance": [],
      "collapsed_sections": [],
      "toc_visible": true
    },
    "kernelspec": {
      "display_name": "Python 3",
      "name": "python3"
    },
    "language_info": {
      "name": "python"
    }
  },
  "cells": [
    {
      "cell_type": "code",
      "metadata": {
        "id": "DM7YwcdGeH9R"
      },
      "source": [
        "import torch.nn as nn\n",
        "from torchvision import models"
      ],
      "execution_count": 1,
      "outputs": []
    },
    {
      "cell_type": "code",
      "metadata": {
        "id": "Uh9NV92I8clL"
      },
      "source": [
        "device = 'cuda' "
      ],
      "execution_count": 5,
      "outputs": []
    },
    {
      "cell_type": "markdown",
      "metadata": {
        "id": "VuuryM2M78e5"
      },
      "source": [
        "# VGG16_bn"
      ]
    },
    {
      "cell_type": "code",
      "metadata": {
        "id": "gPnQZfRYZObY"
      },
      "source": [
        "vgg_model = models.vgg16_bn()\n",
        "num_features = vgg_model.classifier[6].in_features\n",
        "features = list(vgg_model.classifier.children())[:-1]\n",
        "features.extend([nn.Linear(num_features, 1)])\n",
        "vgg_model.classifier = nn.Sequential(*features)\n",
        "vgg_model.to(device)"
      ],
      "execution_count": null,
      "outputs": []
    },
    {
      "cell_type": "markdown",
      "metadata": {
        "id": "iXtgRK_D8PDi"
      },
      "source": [
        "# Resnet34"
      ]
    },
    {
      "cell_type": "code",
      "metadata": {
        "id": "dsvbaUSg7_wn"
      },
      "source": [
        "resnet_model = models.resnet34(pretrained=True)\n",
        "num_ftrs = resnet_model.fc.in_features\n",
        "resnet_model.fc = nn.Linear(num_ftrs, 1)\n",
        "resnet_model.to(device)"
      ],
      "execution_count": null,
      "outputs": []
    },
    {
      "cell_type": "markdown",
      "metadata": {
        "id": "FLnn94Vp8n-T"
      },
      "source": [
        "# Densenet161"
      ]
    },
    {
      "cell_type": "code",
      "metadata": {
        "id": "oMNvOrSY8unH"
      },
      "source": [
        "densenet_model = models.densenet161(pretrained=True)\n",
        "densenet_model.features.conv0 = nn.Conv2d(3, 96, 7, 2, 3)\n",
        "densenet_model.classifier = nn.Linear(2208, 1, bias=True)\n",
        "resnet_model.to(device)"
      ],
      "execution_count": null,
      "outputs": []
    }
  ]
}